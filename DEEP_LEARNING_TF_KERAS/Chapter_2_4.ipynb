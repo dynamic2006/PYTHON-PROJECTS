{
  "nbformat": 4,
  "nbformat_minor": 0,
  "metadata": {
    "colab": {
      "provenance": []
    },
    "kernelspec": {
      "name": "python3",
      "display_name": "Python 3"
    },
    "language_info": {
      "name": "python"
    }
  },
  "cells": [
    {
      "cell_type": "code",
      "execution_count": null,
      "metadata": {
        "id": "n48nZUBf0bkW"
      },
      "outputs": [],
      "source": [
        "import tensorflow as tf\n",
        "import numpy as np\n",
        "import matplotlib.pyplot as plt\n",
        "import pandas as pd\n",
        "import tensorflow.keras as K\n",
        "from tensorflow.keras.layers import Dense, Flatten"
      ]
    },
    {
      "cell_type": "code",
      "source": [
        "((train_data, train_labels), (test_data, test_labels)) = tf.keras.datasets.mnist.load_data()\n",
        "\n",
        "#normalize the images\n",
        "train_data = train_data/np.float32(255)\n",
        "train_labels = train_labels.astype(np.int32)\n",
        "\n",
        "test_data = test_data/np.float32(255)\n",
        "test_labels = test_labels.astype(np.int32)"
      ],
      "metadata": {
        "colab": {
          "base_uri": "https://localhost:8080/"
        },
        "id": "yzuXNs_b2Dl0",
        "outputId": "3db6825d-5414-4ffa-fc1f-e936d840b35a"
      },
      "execution_count": null,
      "outputs": [
        {
          "output_type": "stream",
          "name": "stdout",
          "text": [
            "Downloading data from https://storage.googleapis.com/tensorflow/tf-keras-datasets/mnist.npz\n",
            "11490434/11490434 [==============================] - 0s 0us/step\n"
          ]
        }
      ]
    },
    {
      "cell_type": "code",
      "source": [
        "#define a simple model: 1 dense layer with 10 layers\n",
        "#we use Flatten to resize the 28x28 pixel images into 784 flattened arrays\n",
        "\n",
        "model = K.Sequential([\n",
        "    Flatten(input_shape=(28,28)),\n",
        "    Dense(10, activation = 'sigmoid')\n",
        "])\n",
        "\n",
        "model.summary()"
      ],
      "metadata": {
        "colab": {
          "base_uri": "https://localhost:8080/"
        },
        "id": "1RFZXOr12tdz",
        "outputId": "3385dfe3-798b-4f85-8985-4a38c150fffa"
      },
      "execution_count": null,
      "outputs": [
        {
          "output_type": "stream",
          "name": "stdout",
          "text": [
            "Model: \"sequential\"\n",
            "_________________________________________________________________\n",
            " Layer (type)                Output Shape              Param #   \n",
            "=================================================================\n",
            " flatten (Flatten)           (None, 784)               0         \n",
            "                                                                 \n",
            " dense (Dense)               (None, 10)                7850      \n",
            "                                                                 \n",
            "=================================================================\n",
            "Total params: 7850 (30.66 KB)\n",
            "Trainable params: 7850 (30.66 KB)\n",
            "Non-trainable params: 0 (0.00 Byte)\n",
            "_________________________________________________________________\n"
          ]
        }
      ]
    },
    {
      "cell_type": "code",
      "source": [
        "#since test labels are integral values, we use sparse categorical crossentropy with logits set to True\n",
        "model.compile(optimizer = 'Adam', loss = tf.keras.losses.SparseCategoricalCrossentropy(from_logits=True), metrics = ['accuracy'])\n",
        "\n",
        "history = model.fit(x = train_data, y = train_labels, epochs = 50, verbose = 1, validation_split = 0.2)"
      ],
      "metadata": {
        "colab": {
          "base_uri": "https://localhost:8080/"
        },
        "id": "l6YGS69n3PmM",
        "outputId": "406672ae-eddf-425f-a69b-e403ce060106"
      },
      "execution_count": null,
      "outputs": [
        {
          "output_type": "stream",
          "name": "stdout",
          "text": [
            "Epoch 1/50\n"
          ]
        },
        {
          "output_type": "stream",
          "name": "stderr",
          "text": [
            "/usr/local/lib/python3.10/dist-packages/keras/src/backend.py:5727: UserWarning: \"`sparse_categorical_crossentropy` received `from_logits=True`, but the `output` argument was produced by a Softmax activation and thus does not represent logits. Was this intended?\n",
            "  output, from_logits = _get_logits(\n"
          ]
        },
        {
          "output_type": "stream",
          "name": "stdout",
          "text": [
            "1500/1500 [==============================] - 7s 4ms/step - loss: 0.5144 - accuracy: 0.8689 - val_loss: 0.3212 - val_accuracy: 0.9092\n",
            "Epoch 2/50\n",
            "1500/1500 [==============================] - 5s 3ms/step - loss: 0.3178 - accuracy: 0.9119 - val_loss: 0.2877 - val_accuracy: 0.9198\n",
            "Epoch 3/50\n",
            "1500/1500 [==============================] - 5s 3ms/step - loss: 0.2929 - accuracy: 0.9187 - val_loss: 0.2746 - val_accuracy: 0.9237\n",
            "Epoch 4/50\n",
            "1500/1500 [==============================] - 5s 3ms/step - loss: 0.2811 - accuracy: 0.9207 - val_loss: 0.2711 - val_accuracy: 0.9240\n",
            "Epoch 5/50\n",
            "1500/1500 [==============================] - 5s 3ms/step - loss: 0.2739 - accuracy: 0.9229 - val_loss: 0.2679 - val_accuracy: 0.9265\n",
            "Epoch 6/50\n",
            "1500/1500 [==============================] - 6s 4ms/step - loss: 0.2685 - accuracy: 0.9251 - val_loss: 0.2646 - val_accuracy: 0.9273\n",
            "Epoch 7/50\n",
            "1500/1500 [==============================] - 4s 3ms/step - loss: 0.2637 - accuracy: 0.9259 - val_loss: 0.2623 - val_accuracy: 0.9297\n",
            "Epoch 8/50\n",
            "1500/1500 [==============================] - 5s 3ms/step - loss: 0.2602 - accuracy: 0.9279 - val_loss: 0.2622 - val_accuracy: 0.9287\n",
            "Epoch 9/50\n",
            "1500/1500 [==============================] - 5s 3ms/step - loss: 0.2574 - accuracy: 0.9276 - val_loss: 0.2640 - val_accuracy: 0.9282\n",
            "Epoch 10/50\n",
            "1500/1500 [==============================] - 5s 3ms/step - loss: 0.2558 - accuracy: 0.9290 - val_loss: 0.2620 - val_accuracy: 0.9289\n",
            "Epoch 11/50\n",
            "1500/1500 [==============================] - 6s 4ms/step - loss: 0.2532 - accuracy: 0.9292 - val_loss: 0.2616 - val_accuracy: 0.9294\n",
            "Epoch 12/50\n",
            "1500/1500 [==============================] - 5s 3ms/step - loss: 0.2513 - accuracy: 0.9294 - val_loss: 0.2603 - val_accuracy: 0.9306\n",
            "Epoch 13/50\n",
            "1500/1500 [==============================] - 5s 3ms/step - loss: 0.2493 - accuracy: 0.9305 - val_loss: 0.2636 - val_accuracy: 0.9292\n",
            "Epoch 14/50\n",
            "1500/1500 [==============================] - 6s 4ms/step - loss: 0.2475 - accuracy: 0.9316 - val_loss: 0.2633 - val_accuracy: 0.9287\n",
            "Epoch 15/50\n",
            "1500/1500 [==============================] - 5s 4ms/step - loss: 0.2465 - accuracy: 0.9321 - val_loss: 0.2622 - val_accuracy: 0.9298\n",
            "Epoch 16/50\n",
            "1500/1500 [==============================] - 5s 4ms/step - loss: 0.2454 - accuracy: 0.9319 - val_loss: 0.2614 - val_accuracy: 0.9315\n",
            "Epoch 17/50\n",
            "1500/1500 [==============================] - 4s 3ms/step - loss: 0.2444 - accuracy: 0.9316 - val_loss: 0.2612 - val_accuracy: 0.9299\n",
            "Epoch 18/50\n",
            "1500/1500 [==============================] - 6s 4ms/step - loss: 0.2434 - accuracy: 0.9319 - val_loss: 0.2614 - val_accuracy: 0.9302\n",
            "Epoch 19/50\n",
            "1500/1500 [==============================] - 4s 3ms/step - loss: 0.2422 - accuracy: 0.9330 - val_loss: 0.2643 - val_accuracy: 0.9297\n",
            "Epoch 20/50\n",
            "1500/1500 [==============================] - 6s 4ms/step - loss: 0.2413 - accuracy: 0.9326 - val_loss: 0.2648 - val_accuracy: 0.9299\n",
            "Epoch 21/50\n",
            "1500/1500 [==============================] - 6s 4ms/step - loss: 0.2406 - accuracy: 0.9332 - val_loss: 0.2673 - val_accuracy: 0.9301\n",
            "Epoch 22/50\n",
            "1500/1500 [==============================] - 5s 3ms/step - loss: 0.2395 - accuracy: 0.9326 - val_loss: 0.2636 - val_accuracy: 0.9321\n",
            "Epoch 23/50\n",
            "1500/1500 [==============================] - 6s 4ms/step - loss: 0.2386 - accuracy: 0.9337 - val_loss: 0.2638 - val_accuracy: 0.9297\n",
            "Epoch 24/50\n",
            "1500/1500 [==============================] - 5s 3ms/step - loss: 0.2382 - accuracy: 0.9335 - val_loss: 0.2648 - val_accuracy: 0.9303\n",
            "Epoch 25/50\n",
            "1500/1500 [==============================] - 4s 3ms/step - loss: 0.2376 - accuracy: 0.9336 - val_loss: 0.2653 - val_accuracy: 0.9289\n",
            "Epoch 26/50\n",
            "1500/1500 [==============================] - 6s 4ms/step - loss: 0.2370 - accuracy: 0.9334 - val_loss: 0.2653 - val_accuracy: 0.9300\n",
            "Epoch 27/50\n",
            "1500/1500 [==============================] - 4s 3ms/step - loss: 0.2368 - accuracy: 0.9338 - val_loss: 0.2664 - val_accuracy: 0.9297\n",
            "Epoch 28/50\n",
            "1500/1500 [==============================] - 5s 4ms/step - loss: 0.2362 - accuracy: 0.9342 - val_loss: 0.2633 - val_accuracy: 0.9315\n",
            "Epoch 29/50\n",
            "1500/1500 [==============================] - 6s 4ms/step - loss: 0.2348 - accuracy: 0.9352 - val_loss: 0.2681 - val_accuracy: 0.9295\n",
            "Epoch 30/50\n",
            "1500/1500 [==============================] - 5s 4ms/step - loss: 0.2348 - accuracy: 0.9344 - val_loss: 0.2659 - val_accuracy: 0.9313\n",
            "Epoch 31/50\n",
            "1500/1500 [==============================] - 6s 4ms/step - loss: 0.2338 - accuracy: 0.9344 - val_loss: 0.2666 - val_accuracy: 0.9304\n",
            "Epoch 32/50\n",
            "1500/1500 [==============================] - 5s 3ms/step - loss: 0.2337 - accuracy: 0.9347 - val_loss: 0.2679 - val_accuracy: 0.9306\n",
            "Epoch 33/50\n",
            "1500/1500 [==============================] - 6s 4ms/step - loss: 0.2336 - accuracy: 0.9346 - val_loss: 0.2695 - val_accuracy: 0.9288\n",
            "Epoch 34/50\n",
            "1500/1500 [==============================] - 4s 3ms/step - loss: 0.2327 - accuracy: 0.9351 - val_loss: 0.2703 - val_accuracy: 0.9278\n",
            "Epoch 35/50\n",
            "1500/1500 [==============================] - 5s 3ms/step - loss: 0.2324 - accuracy: 0.9355 - val_loss: 0.2673 - val_accuracy: 0.9304\n",
            "Epoch 36/50\n",
            "1500/1500 [==============================] - 5s 3ms/step - loss: 0.2317 - accuracy: 0.9352 - val_loss: 0.2681 - val_accuracy: 0.9293\n",
            "Epoch 37/50\n",
            "1500/1500 [==============================] - 5s 3ms/step - loss: 0.2317 - accuracy: 0.9354 - val_loss: 0.2695 - val_accuracy: 0.9304\n",
            "Epoch 38/50\n",
            "1500/1500 [==============================] - 5s 4ms/step - loss: 0.2310 - accuracy: 0.9355 - val_loss: 0.2674 - val_accuracy: 0.9309\n",
            "Epoch 39/50\n",
            "1500/1500 [==============================] - 4s 3ms/step - loss: 0.2306 - accuracy: 0.9355 - val_loss: 0.2691 - val_accuracy: 0.9308\n",
            "Epoch 40/50\n",
            "1500/1500 [==============================] - 5s 3ms/step - loss: 0.2307 - accuracy: 0.9361 - val_loss: 0.2677 - val_accuracy: 0.9302\n",
            "Epoch 41/50\n",
            "1500/1500 [==============================] - 5s 3ms/step - loss: 0.2298 - accuracy: 0.9354 - val_loss: 0.2677 - val_accuracy: 0.9309\n",
            "Epoch 42/50\n",
            "1500/1500 [==============================] - 4s 3ms/step - loss: 0.2297 - accuracy: 0.9360 - val_loss: 0.2713 - val_accuracy: 0.9288\n",
            "Epoch 43/50\n",
            "1500/1500 [==============================] - 5s 4ms/step - loss: 0.2289 - accuracy: 0.9356 - val_loss: 0.2718 - val_accuracy: 0.9283\n",
            "Epoch 44/50\n",
            "1500/1500 [==============================] - 8s 5ms/step - loss: 0.2286 - accuracy: 0.9361 - val_loss: 0.2728 - val_accuracy: 0.9287\n",
            "Epoch 45/50\n",
            "1500/1500 [==============================] - 13s 9ms/step - loss: 0.2284 - accuracy: 0.9363 - val_loss: 0.2721 - val_accuracy: 0.9302\n",
            "Epoch 46/50\n",
            "1500/1500 [==============================] - 11s 8ms/step - loss: 0.2282 - accuracy: 0.9362 - val_loss: 0.2737 - val_accuracy: 0.9296\n",
            "Epoch 47/50\n",
            "1500/1500 [==============================] - 10s 6ms/step - loss: 0.2284 - accuracy: 0.9363 - val_loss: 0.2755 - val_accuracy: 0.9274\n",
            "Epoch 48/50\n",
            "1500/1500 [==============================] - 10s 7ms/step - loss: 0.2279 - accuracy: 0.9365 - val_loss: 0.2746 - val_accuracy: 0.9291\n",
            "Epoch 49/50\n",
            "1500/1500 [==============================] - 9s 6ms/step - loss: 0.2275 - accuracy: 0.9370 - val_loss: 0.2762 - val_accuracy: 0.9275\n",
            "Epoch 50/50\n",
            "1500/1500 [==============================] - 10s 7ms/step - loss: 0.2272 - accuracy: 0.9367 - val_loss: 0.2726 - val_accuracy: 0.9297\n"
          ]
        }
      ]
    },
    {
      "cell_type": "code",
      "source": [
        "plt.plot(history.history['loss'], label = \"Loss\")\n",
        "plt.plot(history.history['val_loss'], label = \"Val_Loss\")\n",
        "plt.xlabel(\"Epoch\")\n",
        "plt.ylabel(\"Loss\")\n",
        "plt.legend()\n",
        "plt.grid(True)"
      ],
      "metadata": {
        "colab": {
          "base_uri": "https://localhost:8080/",
          "height": 449
        },
        "id": "8O4ONSa944Pr",
        "outputId": "0bd0d0b6-4e24-4197-bd5d-125db8f01937"
      },
      "execution_count": null,
      "outputs": [
        {
          "output_type": "display_data",
          "data": {
            "text/plain": [
              "<Figure size 640x480 with 1 Axes>"
            ],
            "image/png": "[encoded data removed]"
          },
          "metadata": {}
        }
      ]
    },
    {
      "cell_type": "markdown",
      "source": [
        "Note that in the graph above, the validation loss diverges from the training data loss, indicating that our model is overfitting the training data. To improve performance, we can add hidden layers."
      ],
      "metadata": {
        "id": "jR_Q1zbg5Ydb"
      }
    },
    {
      "cell_type": "code",
      "source": [
        "#utility functions to help visualize the handwritten digits and the probability of the 10 units in the output\n",
        "\n",
        "def plot_image(i, predictions_array, true_label, img):\n",
        "  true_label, img = true_label[i], img[i]\n",
        "  plt.grid(False)\n",
        "  plt.xticks([])\n",
        "  plt.yticks([])\n",
        "\n",
        "  plt.imshow(img, cmap =  plt.cm.binary)\n",
        "\n",
        "  predicted_label = np.argmax(predictions_array)\n",
        "  if predicted_label == true_label:\n",
        "    color = \"blue\"\n",
        "  else:\n",
        "    color = \"red\"\n",
        "\n",
        "  plt.xlabel(\"Pred {} Conf: {:2.0f}% True ({})\".format(predicted_label, 100*np.max(predictions_array), true_label), color = color)\n",
        "\n",
        "\n",
        "def plot_value_array(i, predictions_array, true_label):\n",
        "  true_label = true_label[i]\n",
        "  plt.grid(False)\n",
        "  plt.xticks(range(10))\n",
        "  plt.yticks([])\n",
        "\n",
        "  thisplot = plt.bar(range(10), predictions_array, color = \"#777777\")\n",
        "  plt.ylim([0,1])\n",
        "  predicted_label = np.argmax(predictions_array)\n",
        "  thisplot[predicted_label].set_color(\"red\")\n",
        "  thisplot[true_label].set_color(\"blue\")"
      ],
      "metadata": {
        "id": "L7qlMY9g5X5z"
      },
      "execution_count": null,
      "outputs": []
    },
    {
      "cell_type": "code",
      "source": [
        "predictions = model.predict(test_data)\n",
        "i = 56\n",
        "plt.figure(figsize = (10,5))\n",
        "plt.subplot(1,2,1)\n",
        "plot_image(i, predictions[i], test_labels, test_data)\n",
        "plt.subplot(1,2,2)\n",
        "plot_value_array(i, predictions[i], test_labels)\n",
        "plt.show()"
      ],
      "metadata": {
        "colab": {
          "base_uri": "https://localhost:8080/",
          "height": 462
        },
        "id": "LamL5PSa8_s8",
        "outputId": "8a3145ce-0f50-4316-e7d4-c9b32ca2eadc"
      },
      "execution_count": null,
      "outputs": [
        {
          "output_type": "stream",
          "name": "stdout",
          "text": [
            "313/313 [==============================] - 1s 2ms/step\n"
          ]
        },
        {
          "output_type": "display_data",
          "data": {
            "text/plain": [
              "<Figure size 1000x500 with 2 Axes>"
            ],
            "image/png": "[encoded data removed]"
          },
          "metadata": {}
        }
      ]
    },
    {
      "cell_type": "code",
      "source": [
        "#For better performance, use this model which has another hidden layer and uses softmax\n",
        "better_model = K.Sequential([\n",
        "    Flatten(input_shape=(28,28)),\n",
        "    Dense(128, activation = 'relu'),\n",
        "    Dense(10, activation = 'softmax')\n",
        "])\n",
        "\n",
        "better_model.summary()"
      ],
      "metadata": {
        "colab": {
          "base_uri": "https://localhost:8080/"
        },
        "id": "Tn-5tR6i-ek6",
        "outputId": "9cd00836-1d25-4601-da5e-7fca0c76412b"
      },
      "execution_count": null,
      "outputs": [
        {
          "output_type": "stream",
          "name": "stdout",
          "text": [
            "Model: \"sequential_1\"\n",
            "_________________________________________________________________\n",
            " Layer (type)                Output Shape              Param #   \n",
            "=================================================================\n",
            " flatten_1 (Flatten)         (None, 784)               0         \n",
            "                                                                 \n",
            " dense_1 (Dense)             (None, 128)               100480    \n",
            "                                                                 \n",
            " dense_2 (Dense)             (None, 10)                1290      \n",
            "                                                                 \n",
            "=================================================================\n",
            "Total params: 101770 (397.54 KB)\n",
            "Trainable params: 101770 (397.54 KB)\n",
            "Non-trainable params: 0 (0.00 Byte)\n",
            "_________________________________________________________________\n"
          ]
        }
      ]
    }
  ]
}