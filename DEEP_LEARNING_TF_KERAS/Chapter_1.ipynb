{
  "metadata": {
    "kernelspec": {
      "language": "python",
      "display_name": "Python 3",
      "name": "python3"
    },
    "language_info": {
      "name": "python",
      "version": "3.10.13",
      "mimetype": "text/x-python",
      "codemirror_mode": {
        "name": "ipython",
        "version": 3
      },
      "pygments_lexer": "ipython3",
      "nbconvert_exporter": "python",
      "file_extension": ".py"
    },
    "kaggle": {
      "accelerator": "none",
      "dataSources": [],
      "dockerImageVersionId": 30673,
      "isInternetEnabled": true,
      "language": "python",
      "sourceType": "notebook",
      "isGpuEnabled": false
    },
    "colab": {
      "provenance": []
    }
  },
  "nbformat_minor": 0,
  "nbformat": 4,
  "cells": [
    {
      "cell_type": "markdown",
      "source": [
        "First model example!\n",
        "\n",
        "import tensorflow as tf\n",
        "from tensorflow import keras\n",
        "NB_CLASSES = 10\n",
        "RESHAPED = 784\n",
        "\n",
        "model = tf.keras.models.Sequential()\n",
        "model.add(keras.layers.Dense(NB_CLASSES, input_shape = (RESHAPED,), kernel_initializer='zeros', name = 'dense_layer', activation = 'softmax'))\n",
        "\n",
        "print(\"Completed\")"
      ],
      "metadata": {
        "execution": {
          "iopub.status.busy": "2024-03-22T12:44:34.453904Z",
          "iopub.execute_input": "2024-03-22T12:44:34.454412Z",
          "iopub.status.idle": "2024-03-22T12:44:34.473351Z",
          "shell.execute_reply.started": "2024-03-22T12:44:34.454375Z",
          "shell.execute_reply": "2024-03-22T12:44:34.472371Z"
        },
        "id": "Tw57AanR9S10"
      }
    },
    {
      "cell_type": "code",
      "source": [
        "import tensorflow as tf\n",
        "import numpy as np\n",
        "from tensorflow import keras\n",
        "\n",
        "#Network and training parameters - will go in-depth in later chapters\n",
        "EPOCHS = 10\n",
        "BATCH_SIZE = 128\n",
        "VERBOSE = 1\n",
        "NB_CLASSES = 10 # number of outputs = number of digits\n",
        "N_HIDDEN = 128\n",
        "VALIDATION_SPLIT = 0.2 # how much TRAIN is reserved for VALIDATION\n",
        "DROPOUT = 0.3\n",
        "\n",
        "#Loading MNIST dataset\n",
        "#Labels have one-hot representation, which is automatically applied\n",
        "mnist = keras.datasets.mnist\n",
        "(X_train, Y_train) , (X_test, Y_test) = mnist.load_data()\n",
        "\n",
        "#X_train is 60,000 rows of 28x28 values (pixels), we reshape to 60,000 x 784\n",
        "RESHAPED = 784\n",
        "\n",
        "X_train = X_train.reshape(60000, RESHAPED)\n",
        "X_test = X_test.reshape(10000, RESHAPED)\n",
        "X_train = X_train.astype('float32')\n",
        "X_test = X_test.astype('float32')\n",
        "\n",
        "#Normalize inputs to be within [0,1]\n",
        "X_train /= 255\n",
        "X_test /= 255\n",
        "print(X_train.shape[0], 'train samples')\n",
        "print(X_test.shape[0], 'test samples')\n",
        "\n",
        "#One-hot representation of the labels\n",
        "Y_train = tf.keras.utils.to_categorical(Y_train, NB_CLASSES)\n",
        "Y_test = tf.keras.utils.to_categorical(Y_test, NB_CLASSES)"
      ],
      "metadata": {
        "execution": {
          "iopub.status.busy": "2024-03-26T02:52:42.221984Z",
          "iopub.execute_input": "2024-03-26T02:52:42.223191Z",
          "iopub.status.idle": "2024-03-26T02:52:59.837821Z",
          "shell.execute_reply.started": "2024-03-26T02:52:42.223136Z",
          "shell.execute_reply": "2024-03-26T02:52:59.836279Z"
        },
        "trusted": true,
        "id": "_riSjr7m9S13"
      },
      "execution_count": null,
      "outputs": []
    },
    {
      "cell_type": "code",
      "source": [
        "#Build the model\n",
        "model = tf.keras.models.Sequential()\n",
        "#model.add(keras.layers.Dense(NB_CLASSES, input_shape=(RESHAPED,), name = 'dense_layer', activation = 'softmax'))"
      ],
      "metadata": {
        "execution": {
          "iopub.status.busy": "2024-03-26T02:59:10.753867Z",
          "iopub.execute_input": "2024-03-26T02:59:10.754354Z",
          "iopub.status.idle": "2024-03-26T02:59:10.762305Z",
          "shell.execute_reply.started": "2024-03-26T02:59:10.754316Z",
          "shell.execute_reply": "2024-03-26T02:59:10.760729Z"
        },
        "trusted": true,
        "id": "JxsaOK7H9S15"
      },
      "execution_count": null,
      "outputs": []
    },
    {
      "cell_type": "code",
      "source": [
        "#Change 1: adding hidden layers to model\n",
        "model.add(keras.layers.Dense(N_HIDDEN, input_shape = (RESHAPED,), name = 'dense_layer_1', activation = 'relu'))\n",
        "#Change 2: adding dropout layers to model\n",
        "model.add(keras.layers.Dropout(DROPOUT))\n",
        "#Change 3: adding regularization\n",
        "model.add(keras.layers.Dense(N_HIDDEN, input_shape = (RESHAPED,), name = 'dense_layer_2', activation = 'relu'))\n",
        "model.add(keras.layers.Dropout(DROPOUT))\n",
        "model.add(keras.layers.Dense(NB_CLASSES, input_shape = (RESHAPED,), name = 'dense_layer_3' , activation = 'softmax'))\n",
        "#Summary of the model\n",
        "model.summary()"
      ],
      "metadata": {
        "execution": {
          "iopub.status.busy": "2024-03-26T02:59:13.220227Z",
          "iopub.execute_input": "2024-03-26T02:59:13.22069Z",
          "iopub.status.idle": "2024-03-26T02:59:13.30748Z",
          "shell.execute_reply.started": "2024-03-26T02:59:13.220657Z",
          "shell.execute_reply": "2024-03-26T02:59:13.305989Z"
        },
        "trusted": true,
        "id": "FQasNKu09S15"
      },
      "execution_count": null,
      "outputs": []
    },
    {
      "cell_type": "code",
      "source": [
        "#Compile the model\n",
        "#must include optimizer, loss objective function, and metric for evaluation\n",
        "#we use SGD = Stochastic Gradient Descent as our optimizer\n",
        "model.compile(optimizer = 'Adam', loss = 'categorical_crossentropy', metrics = ['accuracy'])"
      ],
      "metadata": {
        "execution": {
          "iopub.status.busy": "2024-03-26T02:59:18.667471Z",
          "iopub.execute_input": "2024-03-26T02:59:18.667845Z",
          "iopub.status.idle": "2024-03-26T02:59:18.678172Z",
          "shell.execute_reply.started": "2024-03-26T02:59:18.667817Z",
          "shell.execute_reply": "2024-03-26T02:59:18.676735Z"
        },
        "trusted": true,
        "id": "OAQJB0hq9S16"
      },
      "execution_count": null,
      "outputs": []
    },
    {
      "cell_type": "code",
      "source": [
        "#Training the model\n",
        "#epochs is the number of times the model is exposed to the training dataset\n",
        "#weights are adjusted after each epoch\n",
        "#batch_size is the number of training data pieces shown each epoch\n",
        "model.fit(X_train, Y_train, batch_size = BATCH_SIZE, epochs = EPOCHS, verbose = VERBOSE, validation_split = VALIDATION_SPLIT)"
      ],
      "metadata": {
        "execution": {
          "iopub.status.busy": "2024-03-26T02:59:23.831906Z",
          "iopub.execute_input": "2024-03-26T02:59:23.832363Z",
          "iopub.status.idle": "2024-03-26T02:59:50.445477Z",
          "shell.execute_reply.started": "2024-03-26T02:59:23.832332Z",
          "shell.execute_reply": "2024-03-26T02:59:50.44404Z"
        },
        "trusted": true,
        "id": "yr_b11QU9S16"
      },
      "execution_count": null,
      "outputs": []
    },
    {
      "cell_type": "code",
      "source": [
        "#evaluate the model's performance using the test dataset\n",
        "test_loss, test_acc = model.evaluate(X_test, Y_test)\n",
        "print('Test accuracy: ', test_acc)"
      ],
      "metadata": {
        "execution": {
          "iopub.status.busy": "2024-03-26T03:00:01.442598Z",
          "iopub.execute_input": "2024-03-26T03:00:01.443006Z",
          "iopub.status.idle": "2024-03-26T03:00:02.226187Z",
          "shell.execute_reply.started": "2024-03-26T03:00:01.442974Z",
          "shell.execute_reply": "2024-03-26T03:00:02.224837Z"
        },
        "trusted": true,
        "id": "LX-ofo3M9S17"
      },
      "execution_count": null,
      "outputs": []
    }
  ]
}