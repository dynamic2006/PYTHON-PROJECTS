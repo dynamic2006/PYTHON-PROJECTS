{
  "nbformat": 4,
  "nbformat_minor": 0,
  "metadata": {
    "colab": {
      "provenance": []
    },
    "kernelspec": {
      "name": "python3",
      "display_name": "Python 3"
    },
    "language_info": {
      "name": "python"
    }
  },
  "cells": [
    {
      "cell_type": "markdown",
      "source": [
        "Using a Neural Network to conduct Simple Linear Regression"
      ],
      "metadata": {
        "id": "OCr_zwELwC9u"
      }
    },
    {
      "cell_type": "code",
      "execution_count": null,
      "metadata": {
        "id": "DGP7yJQRjTNc"
      },
      "outputs": [],
      "source": [
        "import tensorflow as tf\n",
        "import numpy as np\n",
        "import matplotlib.pyplot as plt\n",
        "import pandas as pd\n",
        "import tensorflow.keras as K\n",
        "from tensorflow.keras.layers import Dense"
      ]
    },
    {
      "cell_type": "code",
      "source": [
        "#Generate random data\n",
        "np.random.seed(0)\n",
        "area = 2.5 * np.random.randn(100) + 25\n",
        "price = 25*area + 5 + np.random.randint(20, 50, size = len(area))\n",
        "data = np.array([area, price])\n",
        "data = pd.DataFrame(data = data.T, columns = ['area', 'price'])\n",
        "plt.scatter(data['area'], data['price'])\n",
        "plt.show()"
      ],
      "metadata": {
        "colab": {
          "base_uri": "https://localhost:8080/",
          "height": 430
        },
        "id": "RywRFy2Bkh_L",
        "outputId": "5f3b3e4f-49ce-4472-a0dc-9372f39e2444"
      },
      "execution_count": null,
      "outputs": [
        {
          "output_type": "display_data",
          "data": {
            "text/plain": [
              "<Figure size 640x480 with 1 Axes>"
            ],
            "image/png": "[encoded data removed]"
          },
          "metadata": {}
        }
      ]
    },
    {
      "cell_type": "code",
      "source": [
        "data = (data - data.min()) / (data.max() - data.min()) #Normalize (will always be between 0 and 1)\n",
        "\n",
        "model = K.Sequential([Dense(1, input_shape = [1,], activation = None)])\n",
        "model.summary()"
      ],
      "metadata": {
        "colab": {
          "base_uri": "https://localhost:8080/"
        },
        "id": "KksxoOP-lKJv",
        "outputId": "86b94784-2d8b-4a57-b6c2-3191dfbe33e4"
      },
      "execution_count": null,
      "outputs": [
        {
          "output_type": "stream",
          "name": "stdout",
          "text": [
            "Model: \"sequential\"\n",
            "_________________________________________________________________\n",
            " Layer (type)                Output Shape              Param #   \n",
            "=================================================================\n",
            " dense (Dense)               (None, 1)                 2         \n",
            "                                                                 \n",
            "=================================================================\n",
            "Total params: 2 (8.00 Byte)\n",
            "Trainable params: 2 (8.00 Byte)\n",
            "Non-trainable params: 0 (0.00 Byte)\n",
            "_________________________________________________________________\n"
          ]
        }
      ]
    },
    {
      "cell_type": "code",
      "source": [
        "model.compile(loss='mean_squared_error', optimizer='sgd')\n",
        "model.fit(x = data['area'], y = data['price'], epochs = 150, batch_size = 32, verbose = 1, validation_split = 0.2)"
      ],
      "metadata": {
        "colab": {
          "base_uri": "https://localhost:8080/"
        },
        "id": "mzVF7OwKlTeu",
        "outputId": "3489f0df-07d1-44ae-9f6d-c5e92f2ddf57"
      },
      "execution_count": null,
      "outputs": [
        {
          "output_type": "stream",
          "name": "stdout",
          "text": [
            "Epoch 1/150\n",
            "3/3 [==============================] - 0s 79ms/step - loss: 0.0102 - val_loss: 0.0081\n",
            "Epoch 2/150\n",
            "3/3 [==============================] - 0s 17ms/step - loss: 0.0101 - val_loss: 0.0081\n",
            "Epoch 3/150\n",
            "3/3 [==============================] - 0s 18ms/step - loss: 0.0101 - val_loss: 0.0080\n",
            "Epoch 4/150\n",
            "3/3 [==============================] - 0s 17ms/step - loss: 0.0100 - val_loss: 0.0080\n",
            "Epoch 5/150\n",
            "3/3 [==============================] - 0s 16ms/step - loss: 0.0100 - val_loss: 0.0080\n",
            "Epoch 6/150\n",
            "3/3 [==============================] - 0s 16ms/step - loss: 0.0100 - val_loss: 0.0080\n",
            "Epoch 7/150\n",
            "3/3 [==============================] - 0s 16ms/step - loss: 0.0099 - val_loss: 0.0079\n",
            "Epoch 8/150\n",
            "3/3 [==============================] - 0s 19ms/step - loss: 0.0099 - val_loss: 0.0079\n",
            "Epoch 9/150\n",
            "3/3 [==============================] - 0s 17ms/step - loss: 0.0099 - val_loss: 0.0079\n",
            "Epoch 10/150\n",
            "3/3 [==============================] - 0s 17ms/step - loss: 0.0098 - val_loss: 0.0078\n",
            "Epoch 11/150\n",
            "3/3 [==============================] - 0s 16ms/step - loss: 0.0098 - val_loss: 0.0078\n",
            "Epoch 12/150\n",
            "3/3 [==============================] - 0s 17ms/step - loss: 0.0098 - val_loss: 0.0078\n",
            "Epoch 13/150\n",
            "3/3 [==============================] - 0s 16ms/step - loss: 0.0097 - val_loss: 0.0077\n",
            "Epoch 14/150\n",
            "3/3 [==============================] - 0s 19ms/step - loss: 0.0097 - val_loss: 0.0077\n",
            "Epoch 15/150\n",
            "3/3 [==============================] - 0s 16ms/step - loss: 0.0096 - val_loss: 0.0077\n",
            "Epoch 16/150\n",
            "3/3 [==============================] - 0s 18ms/step - loss: 0.0096 - val_loss: 0.0076\n",
            "Epoch 17/150\n",
            "3/3 [==============================] - 0s 21ms/step - loss: 0.0096 - val_loss: 0.0076\n",
            "Epoch 18/150\n",
            "3/3 [==============================] - 0s 16ms/step - loss: 0.0095 - val_loss: 0.0075\n",
            "Epoch 19/150\n",
            "3/3 [==============================] - 0s 16ms/step - loss: 0.0095 - val_loss: 0.0075\n",
            "Epoch 20/150\n",
            "3/3 [==============================] - 0s 16ms/step - loss: 0.0095 - val_loss: 0.0075\n",
            "Epoch 21/150\n",
            "3/3 [==============================] - 0s 17ms/step - loss: 0.0094 - val_loss: 0.0075\n",
            "Epoch 22/150\n",
            "3/3 [==============================] - 0s 16ms/step - loss: 0.0094 - val_loss: 0.0074\n",
            "Epoch 23/150\n",
            "3/3 [==============================] - 0s 17ms/step - loss: 0.0094 - val_loss: 0.0074\n",
            "Epoch 24/150\n",
            "3/3 [==============================] - 0s 16ms/step - loss: 0.0093 - val_loss: 0.0074\n",
            "Epoch 25/150\n",
            "3/3 [==============================] - 0s 16ms/step - loss: 0.0093 - val_loss: 0.0074\n",
            "Epoch 26/150\n",
            "3/3 [==============================] - 0s 26ms/step - loss: 0.0092 - val_loss: 0.0073\n",
            "Epoch 27/150\n",
            "3/3 [==============================] - 0s 17ms/step - loss: 0.0092 - val_loss: 0.0073\n",
            "Epoch 28/150\n",
            "3/3 [==============================] - 0s 17ms/step - loss: 0.0092 - val_loss: 0.0073\n",
            "Epoch 29/150\n",
            "3/3 [==============================] - 0s 17ms/step - loss: 0.0091 - val_loss: 0.0073\n",
            "Epoch 30/150\n",
            "3/3 [==============================] - 0s 17ms/step - loss: 0.0091 - val_loss: 0.0072\n",
            "Epoch 31/150\n",
            "3/3 [==============================] - 0s 17ms/step - loss: 0.0091 - val_loss: 0.0072\n",
            "Epoch 32/150\n",
            "3/3 [==============================] - 0s 17ms/step - loss: 0.0090 - val_loss: 0.0071\n",
            "Epoch 33/150\n",
            "3/3 [==============================] - 0s 18ms/step - loss: 0.0090 - val_loss: 0.0071\n",
            "Epoch 34/150\n",
            "3/3 [==============================] - 0s 24ms/step - loss: 0.0090 - val_loss: 0.0071\n",
            "Epoch 35/150\n",
            "3/3 [==============================] - 0s 38ms/step - loss: 0.0089 - val_loss: 0.0071\n",
            "Epoch 36/150\n",
            "3/3 [==============================] - 0s 35ms/step - loss: 0.0089 - val_loss: 0.0070\n",
            "Epoch 37/150\n",
            "3/3 [==============================] - 0s 43ms/step - loss: 0.0089 - val_loss: 0.0070\n",
            "Epoch 38/150\n",
            "3/3 [==============================] - 0s 30ms/step - loss: 0.0088 - val_loss: 0.0070\n",
            "Epoch 39/150\n",
            "3/3 [==============================] - 0s 26ms/step - loss: 0.0088 - val_loss: 0.0070\n",
            "Epoch 40/150\n",
            "3/3 [==============================] - 0s 25ms/step - loss: 0.0088 - val_loss: 0.0070\n",
            "Epoch 41/150\n",
            "3/3 [==============================] - 0s 26ms/step - loss: 0.0088 - val_loss: 0.0069\n",
            "Epoch 42/150\n",
            "3/3 [==============================] - 0s 25ms/step - loss: 0.0087 - val_loss: 0.0069\n",
            "Epoch 43/150\n",
            "3/3 [==============================] - 0s 23ms/step - loss: 0.0087 - val_loss: 0.0069\n",
            "Epoch 44/150\n",
            "3/3 [==============================] - 0s 24ms/step - loss: 0.0087 - val_loss: 0.0069\n",
            "Epoch 45/150\n",
            "3/3 [==============================] - 0s 32ms/step - loss: 0.0086 - val_loss: 0.0068\n",
            "Epoch 46/150\n",
            "3/3 [==============================] - 0s 24ms/step - loss: 0.0086 - val_loss: 0.0068\n",
            "Epoch 47/150\n",
            "3/3 [==============================] - 0s 34ms/step - loss: 0.0086 - val_loss: 0.0068\n",
            "Epoch 48/150\n",
            "3/3 [==============================] - 0s 30ms/step - loss: 0.0085 - val_loss: 0.0067\n",
            "Epoch 49/150\n",
            "3/3 [==============================] - 0s 33ms/step - loss: 0.0085 - val_loss: 0.0067\n",
            "Epoch 50/150\n",
            "3/3 [==============================] - 0s 22ms/step - loss: 0.0085 - val_loss: 0.0067\n",
            "Epoch 51/150\n",
            "3/3 [==============================] - 0s 21ms/step - loss: 0.0084 - val_loss: 0.0066\n",
            "Epoch 52/150\n",
            "3/3 [==============================] - 0s 21ms/step - loss: 0.0084 - val_loss: 0.0066\n",
            "Epoch 53/150\n",
            "3/3 [==============================] - 0s 35ms/step - loss: 0.0084 - val_loss: 0.0066\n",
            "Epoch 54/150\n",
            "3/3 [==============================] - 0s 32ms/step - loss: 0.0083 - val_loss: 0.0066\n",
            "Epoch 55/150\n",
            "3/3 [==============================] - 0s 22ms/step - loss: 0.0083 - val_loss: 0.0065\n",
            "Epoch 56/150\n",
            "3/3 [==============================] - 0s 32ms/step - loss: 0.0083 - val_loss: 0.0065\n",
            "Epoch 57/150\n",
            "3/3 [==============================] - 0s 25ms/step - loss: 0.0082 - val_loss: 0.0065\n",
            "Epoch 58/150\n",
            "3/3 [==============================] - 0s 32ms/step - loss: 0.0082 - val_loss: 0.0064\n",
            "Epoch 59/150\n",
            "3/3 [==============================] - 0s 32ms/step - loss: 0.0082 - val_loss: 0.0064\n",
            "Epoch 60/150\n",
            "3/3 [==============================] - 0s 23ms/step - loss: 0.0082 - val_loss: 0.0064\n",
            "Epoch 61/150\n",
            "3/3 [==============================] - 0s 23ms/step - loss: 0.0081 - val_loss: 0.0064\n",
            "Epoch 62/150\n",
            "3/3 [==============================] - 0s 25ms/step - loss: 0.0081 - val_loss: 0.0063\n",
            "Epoch 63/150\n",
            "3/3 [==============================] - 0s 27ms/step - loss: 0.0081 - val_loss: 0.0063\n",
            "Epoch 64/150\n",
            "3/3 [==============================] - 0s 36ms/step - loss: 0.0080 - val_loss: 0.0063\n",
            "Epoch 65/150\n",
            "3/3 [==============================] - 0s 34ms/step - loss: 0.0080 - val_loss: 0.0062\n",
            "Epoch 66/150\n",
            "3/3 [==============================] - 0s 27ms/step - loss: 0.0080 - val_loss: 0.0062\n",
            "Epoch 67/150\n",
            "3/3 [==============================] - 0s 30ms/step - loss: 0.0080 - val_loss: 0.0062\n",
            "Epoch 68/150\n",
            "3/3 [==============================] - 0s 33ms/step - loss: 0.0079 - val_loss: 0.0062\n",
            "Epoch 69/150\n",
            "3/3 [==============================] - 0s 29ms/step - loss: 0.0079 - val_loss: 0.0062\n",
            "Epoch 70/150\n",
            "3/3 [==============================] - 0s 38ms/step - loss: 0.0079 - val_loss: 0.0061\n",
            "Epoch 71/150\n",
            "3/3 [==============================] - 0s 37ms/step - loss: 0.0078 - val_loss: 0.0061\n",
            "Epoch 72/150\n",
            "3/3 [==============================] - 0s 27ms/step - loss: 0.0078 - val_loss: 0.0061\n",
            "Epoch 73/150\n",
            "3/3 [==============================] - 0s 18ms/step - loss: 0.0078 - val_loss: 0.0061\n",
            "Epoch 74/150\n",
            "3/3 [==============================] - 0s 17ms/step - loss: 0.0078 - val_loss: 0.0061\n",
            "Epoch 75/150\n",
            "3/3 [==============================] - 0s 17ms/step - loss: 0.0077 - val_loss: 0.0060\n",
            "Epoch 76/150\n",
            "3/3 [==============================] - 0s 17ms/step - loss: 0.0077 - val_loss: 0.0060\n",
            "Epoch 77/150\n",
            "3/3 [==============================] - 0s 17ms/step - loss: 0.0077 - val_loss: 0.0060\n",
            "Epoch 78/150\n",
            "3/3 [==============================] - 0s 18ms/step - loss: 0.0076 - val_loss: 0.0060\n",
            "Epoch 79/150\n",
            "3/3 [==============================] - 0s 18ms/step - loss: 0.0076 - val_loss: 0.0060\n",
            "Epoch 80/150\n",
            "3/3 [==============================] - 0s 17ms/step - loss: 0.0076 - val_loss: 0.0059\n",
            "Epoch 81/150\n",
            "3/3 [==============================] - 0s 16ms/step - loss: 0.0076 - val_loss: 0.0059\n",
            "Epoch 82/150\n",
            "3/3 [==============================] - 0s 16ms/step - loss: 0.0075 - val_loss: 0.0059\n",
            "Epoch 83/150\n",
            "3/3 [==============================] - 0s 16ms/step - loss: 0.0075 - val_loss: 0.0059\n",
            "Epoch 84/150\n",
            "3/3 [==============================] - 0s 16ms/step - loss: 0.0075 - val_loss: 0.0058\n",
            "Epoch 85/150\n",
            "3/3 [==============================] - 0s 16ms/step - loss: 0.0075 - val_loss: 0.0058\n",
            "Epoch 86/150\n",
            "3/3 [==============================] - 0s 16ms/step - loss: 0.0074 - val_loss: 0.0058\n",
            "Epoch 87/150\n",
            "3/3 [==============================] - 0s 17ms/step - loss: 0.0074 - val_loss: 0.0058\n",
            "Epoch 88/150\n",
            "3/3 [==============================] - 0s 16ms/step - loss: 0.0074 - val_loss: 0.0057\n",
            "Epoch 89/150\n",
            "3/3 [==============================] - 0s 20ms/step - loss: 0.0073 - val_loss: 0.0057\n",
            "Epoch 90/150\n",
            "3/3 [==============================] - 0s 17ms/step - loss: 0.0073 - val_loss: 0.0057\n",
            "Epoch 91/150\n",
            "3/3 [==============================] - 0s 17ms/step - loss: 0.0073 - val_loss: 0.0057\n",
            "Epoch 92/150\n",
            "3/3 [==============================] - 0s 16ms/step - loss: 0.0073 - val_loss: 0.0056\n",
            "Epoch 93/150\n",
            "3/3 [==============================] - 0s 16ms/step - loss: 0.0072 - val_loss: 0.0056\n",
            "Epoch 94/150\n",
            "3/3 [==============================] - 0s 17ms/step - loss: 0.0072 - val_loss: 0.0056\n",
            "Epoch 95/150\n",
            "3/3 [==============================] - 0s 16ms/step - loss: 0.0072 - val_loss: 0.0056\n",
            "Epoch 96/150\n",
            "3/3 [==============================] - 0s 18ms/step - loss: 0.0072 - val_loss: 0.0056\n",
            "Epoch 97/150\n",
            "3/3 [==============================] - 0s 17ms/step - loss: 0.0071 - val_loss: 0.0055\n",
            "Epoch 98/150\n",
            "3/3 [==============================] - 0s 21ms/step - loss: 0.0071 - val_loss: 0.0055\n",
            "Epoch 99/150\n",
            "3/3 [==============================] - 0s 17ms/step - loss: 0.0071 - val_loss: 0.0055\n",
            "Epoch 100/150\n",
            "3/3 [==============================] - 0s 16ms/step - loss: 0.0071 - val_loss: 0.0055\n",
            "Epoch 101/150\n",
            "3/3 [==============================] - 0s 20ms/step - loss: 0.0070 - val_loss: 0.0055\n",
            "Epoch 102/150\n",
            "3/3 [==============================] - 0s 16ms/step - loss: 0.0070 - val_loss: 0.0054\n",
            "Epoch 103/150\n",
            "3/3 [==============================] - 0s 17ms/step - loss: 0.0070 - val_loss: 0.0054\n",
            "Epoch 104/150\n",
            "3/3 [==============================] - 0s 17ms/step - loss: 0.0070 - val_loss: 0.0054\n",
            "Epoch 105/150\n",
            "3/3 [==============================] - 0s 16ms/step - loss: 0.0069 - val_loss: 0.0054\n",
            "Epoch 106/150\n",
            "3/3 [==============================] - 0s 20ms/step - loss: 0.0069 - val_loss: 0.0053\n",
            "Epoch 107/150\n",
            "3/3 [==============================] - 0s 18ms/step - loss: 0.0069 - val_loss: 0.0053\n",
            "Epoch 108/150\n",
            "3/3 [==============================] - 0s 16ms/step - loss: 0.0069 - val_loss: 0.0053\n",
            "Epoch 109/150\n",
            "3/3 [==============================] - 0s 17ms/step - loss: 0.0068 - val_loss: 0.0053\n",
            "Epoch 110/150\n",
            "3/3 [==============================] - 0s 16ms/step - loss: 0.0068 - val_loss: 0.0052\n",
            "Epoch 111/150\n",
            "3/3 [==============================] - 0s 15ms/step - loss: 0.0068 - val_loss: 0.0052\n",
            "Epoch 112/150\n",
            "3/3 [==============================] - 0s 22ms/step - loss: 0.0068 - val_loss: 0.0052\n",
            "Epoch 113/150\n",
            "3/3 [==============================] - 0s 16ms/step - loss: 0.0067 - val_loss: 0.0052\n",
            "Epoch 114/150\n",
            "3/3 [==============================] - 0s 18ms/step - loss: 0.0067 - val_loss: 0.0052\n",
            "Epoch 115/150\n",
            "3/3 [==============================] - 0s 17ms/step - loss: 0.0067 - val_loss: 0.0051\n",
            "Epoch 116/150\n",
            "3/3 [==============================] - 0s 17ms/step - loss: 0.0067 - val_loss: 0.0051\n",
            "Epoch 117/150\n",
            "3/3 [==============================] - 0s 17ms/step - loss: 0.0067 - val_loss: 0.0051\n",
            "Epoch 118/150\n",
            "3/3 [==============================] - 0s 17ms/step - loss: 0.0066 - val_loss: 0.0051\n",
            "Epoch 119/150\n",
            "3/3 [==============================] - 0s 17ms/step - loss: 0.0066 - val_loss: 0.0050\n",
            "Epoch 120/150\n",
            "3/3 [==============================] - 0s 19ms/step - loss: 0.0066 - val_loss: 0.0050\n",
            "Epoch 121/150\n",
            "3/3 [==============================] - 0s 16ms/step - loss: 0.0066 - val_loss: 0.0050\n",
            "Epoch 122/150\n",
            "3/3 [==============================] - 0s 18ms/step - loss: 0.0065 - val_loss: 0.0050\n",
            "Epoch 123/150\n",
            "3/3 [==============================] - 0s 18ms/step - loss: 0.0065 - val_loss: 0.0049\n",
            "Epoch 124/150\n",
            "3/3 [==============================] - 0s 18ms/step - loss: 0.0065 - val_loss: 0.0049\n",
            "Epoch 125/150\n",
            "3/3 [==============================] - 0s 18ms/step - loss: 0.0065 - val_loss: 0.0049\n",
            "Epoch 126/150\n",
            "3/3 [==============================] - 0s 18ms/step - loss: 0.0064 - val_loss: 0.0049\n",
            "Epoch 127/150\n",
            "3/3 [==============================] - 0s 17ms/step - loss: 0.0064 - val_loss: 0.0049\n",
            "Epoch 128/150\n",
            "3/3 [==============================] - 0s 17ms/step - loss: 0.0064 - val_loss: 0.0049\n",
            "Epoch 129/150\n",
            "3/3 [==============================] - 0s 18ms/step - loss: 0.0064 - val_loss: 0.0048\n",
            "Epoch 130/150\n",
            "3/3 [==============================] - 0s 17ms/step - loss: 0.0063 - val_loss: 0.0048\n",
            "Epoch 131/150\n",
            "3/3 [==============================] - 0s 17ms/step - loss: 0.0063 - val_loss: 0.0048\n",
            "Epoch 132/150\n",
            "3/3 [==============================] - 0s 17ms/step - loss: 0.0063 - val_loss: 0.0048\n",
            "Epoch 133/150\n",
            "3/3 [==============================] - 0s 18ms/step - loss: 0.0063 - val_loss: 0.0048\n",
            "Epoch 134/150\n",
            "3/3 [==============================] - 0s 16ms/step - loss: 0.0062 - val_loss: 0.0048\n",
            "Epoch 135/150\n",
            "3/3 [==============================] - 0s 21ms/step - loss: 0.0062 - val_loss: 0.0048\n",
            "Epoch 136/150\n",
            "3/3 [==============================] - 0s 22ms/step - loss: 0.0062 - val_loss: 0.0047\n",
            "Epoch 137/150\n",
            "3/3 [==============================] - 0s 16ms/step - loss: 0.0062 - val_loss: 0.0047\n",
            "Epoch 138/150\n",
            "3/3 [==============================] - 0s 16ms/step - loss: 0.0062 - val_loss: 0.0047\n",
            "Epoch 139/150\n",
            "3/3 [==============================] - 0s 17ms/step - loss: 0.0062 - val_loss: 0.0047\n",
            "Epoch 140/150\n",
            "3/3 [==============================] - 0s 17ms/step - loss: 0.0061 - val_loss: 0.0047\n",
            "Epoch 141/150\n",
            "3/3 [==============================] - 0s 16ms/step - loss: 0.0061 - val_loss: 0.0046\n",
            "Epoch 142/150\n",
            "3/3 [==============================] - 0s 17ms/step - loss: 0.0061 - val_loss: 0.0046\n",
            "Epoch 143/150\n",
            "3/3 [==============================] - 0s 18ms/step - loss: 0.0061 - val_loss: 0.0046\n",
            "Epoch 144/150\n",
            "3/3 [==============================] - 0s 16ms/step - loss: 0.0060 - val_loss: 0.0046\n",
            "Epoch 145/150\n",
            "3/3 [==============================] - 0s 17ms/step - loss: 0.0060 - val_loss: 0.0046\n",
            "Epoch 146/150\n",
            "3/3 [==============================] - 0s 17ms/step - loss: 0.0060 - val_loss: 0.0046\n",
            "Epoch 147/150\n",
            "3/3 [==============================] - 0s 18ms/step - loss: 0.0060 - val_loss: 0.0046\n",
            "Epoch 148/150\n",
            "3/3 [==============================] - 0s 18ms/step - loss: 0.0060 - val_loss: 0.0045\n",
            "Epoch 149/150\n",
            "3/3 [==============================] - 0s 17ms/step - loss: 0.0059 - val_loss: 0.0045\n",
            "Epoch 150/150\n",
            "3/3 [==============================] - 0s 19ms/step - loss: 0.0059 - val_loss: 0.0045\n"
          ]
        },
        {
          "output_type": "execute_result",
          "data": {
            "text/plain": [
              "<keras.src.callbacks.History at 0x7bc29b56b4c0>"
            ]
          },
          "metadata": {},
          "execution_count": 14
        }
      ]
    },
    {
      "cell_type": "code",
      "source": [
        "y_pred = model.predict(data['area'])\n",
        "\n",
        "plt.plot(data['area'], y_pred, color = \"red\", label = \"Predicted Price\")\n",
        "plt.scatter(data['area'], data['price'], label = \"Training Data\")\n",
        "plt.xlabel(\"Area\")\n",
        "plt.ylabel(\"Price\")\n",
        "plt.legend()\n",
        "\n",
        "model.weights"
      ],
      "metadata": {
        "colab": {
          "base_uri": "https://localhost:8080/",
          "height": 501
        },
        "id": "_iGyNCDbmMVk",
        "outputId": "0db1ec7d-c1ef-4dd9-823d-b9fc532bbcce"
      },
      "execution_count": null,
      "outputs": [
        {
          "output_type": "stream",
          "name": "stdout",
          "text": [
            "4/4 [==============================] - 0s 3ms/step\n"
          ]
        },
        {
          "output_type": "execute_result",
          "data": {
            "text/plain": [
              "[<tf.Variable 'dense/kernel:0' shape=(1, 1) dtype=float32, numpy=array([[0.6769486]], dtype=float32)>,\n",
              " <tf.Variable 'dense/bias:0' shape=(1,) dtype=float32, numpy=array([0.13481945], dtype=float32)>]"
            ]
          },
          "metadata": {},
          "execution_count": 15
        },
        {
          "output_type": "display_data",
          "data": {
            "text/plain": [
              "<Figure size 640x480 with 1 Axes>"
            ],
            "image/png": "[encoded data removed]"
          },
          "metadata": {}
        }
      ]
    }
  ]
}